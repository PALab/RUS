{
 "cells": [
  {
   "cell_type": "markdown",
   "id": "7f699427-374d-4a76-8cee-8a2f911e6279",
   "metadata": {
    "id": "7f699427-374d-4a76-8cee-8a2f911e6279"
   },
   "source": [
    "# Tutorial on the forward RUS code \n",
    "\n",
    "This tutorial is to showcase the tools in the RUS toolbox through a worked example on the resonant modes of a cylinder. This notebook is for learning purposes, therefore you will see lots of visualizations, including -- at the end -- animations of the sample movement at a resonant frequency of your choice. This notebook was made by Dr. Evert Duran and Dr. Kasper van Wijk for (Liu et al, 2025).\n",
    "\n",
    "The forward calculations shown below calculate the resonant frequencies and the normal mode shapes given the dimensions, shape, density and elastic constants. The following codes were adapted from the codes of the [PALab](https://github.com/PALab) for [RUS](https://github.com/PALab/RUS). These codes were provided by Zadler et al. (2004) and translated to Python by [Paul Freeman](https://github.com/paul-freeman) in 2015. The functions needed are in the file `rus_tools.py`. In essence, the problem of the free oscillations are set up in terms of an eigenvalue problem, where the eigenvalues are the resonant frequencies, and the eigenvectors the physical displacements when oscillating.\n",
    "\n",
    "## Resonant frequencies and oscillations of copper cylinder (De Rue, 1996)"
   ]
  },
  {
   "cell_type": "code",
   "execution_count": null,
   "id": "1ed83594-fee6-49b9-bb3f-aca630d6ac2f",
   "metadata": {
    "colab": {
     "base_uri": "https://localhost:8080/"
    },
    "id": "71999471-dbb7-4be6-bf54-fed714e96612",
    "outputId": "d39c9354-5023-4514-eec3-a8d43bfa1a54"
   },
   "outputs": [],
   "source": [
    "import sys\n",
    "import scipy\n",
    "import numpy\n",
    "import matplotlib.pyplot as plt\n",
    "import scipy.linalg.lapack as lapack\n",
    "import scipy.linalg as la\n",
    "from math import sqrt\n",
    "import rus_tools as rus\n",
    "\n",
    "# Inputs\n",
    "Mu = 48.3 # GPa \n",
    "rho = 8.933 # g/cm^3  \n",
    "\n",
    "# Shape of object and dimensions\n",
    "shape = 1 # 1 for cylinder.  2 for a sphere\n",
    "args = {'nfreq': 16, 'outeigen': None}\n",
    "a = {'c11': Lam + 2*Mu, 'c44': Mu}\n",
    "dimension1 = 4.422/2\n",
    "dimension2 = 4.422/2 \n",
    "dimension3 = 2.5 # Radius 3 \n",
    "dimensions = [dimension1, dimension2, dimension3]\n",
    "\n",
    "# Elastic matrix and stiffness tensor\n",
    "cm = rus.make_cm(a, hextype=None) # Voigt notation 6X6 array\n",
    "cijkl = rus.stiffness(cm) # Full tensor 3x3x3x3 array\n",
    "\n",
    "\n",
    "# Code starts\n",
    "d = 8 # N order or NN in Vissher et al. 1991\n",
    "problem_size = int(3*(d + 1)*(d + 2)*(d + 3)/6) # R in Vissher et al. 1991\n",
    "\n",
    "tabs, irk = rus.index_relationship(d, problem_size)\n",
    "\n",
    "e = rus.e_fill(tabs, dimensions, rho, shape, irk)\n",
    "\n",
    "gamma = rus.gamma_fill(tabs, dimensions, cm, shape, irk)\n",
    "\n",
    "print(\"done preparing matrices\") # It works find until here\n",
    "\n",
    "jobz = 'N'\n",
    "if args['outeigen'] == None: #args.outeigen == None:\n",
    "    jobz = 'N'\n",
    "else:\n",
    "    jobz = 'V'\n",
    "\n",
    "# Solves the eigenproblem for each block of the block-diagonal matrix Gamma\n",
    "# Each matrix in the block is positive-difinite\n",
    "w = []\n",
    "eigvals = []\n",
    "eigvect = []\n",
    "for k in range(8):\n",
    "    w_temp, v_temp = la.eigh(gamma[k], e[k], lower=False, eigvals_only=False, type=1, overwrite_a=True, overwrite_b=True, check_finite=False)\n",
    "    w.append(w_temp)\n",
    "    eigvals.append(w_temp)\n",
    "    eigvect.append(numpy.transpose(v_temp)) # Transpose if needed!\n",
    "\n",
    "# start eigen vectors (block)\n",
    "r = problem_size\n",
    "z = numpy.zeros((r,r)) # Matrix of eigenvectors matching tabs array\n",
    "irf = 0\n",
    "for k in range(8):\n",
    "    for ir1 in range(irf,irf+irk[k]):\n",
    "        for ir2 in range(irf,irf+irk[k]):\n",
    "            z[ir2][ir1] = eigvect[k][ir2-irf][ir1-irf]\n",
    "    for ir1 in range(irk[k]+irf,r):\n",
    "        for ir2 in range(irf,irf+irk[k]):\n",
    "            z[ir2][ir1] = 0.0\n",
    "    irf += irk[k]\n",
    "# end eigen vectors (block)\n",
    "\n",
    "# Sort eigenvalues\n",
    "wsort = numpy.zeros(problem_size)\n",
    "i = 0\n",
    "for k in range(8):\n",
    "    for ir1 in range(irk[k]):\n",
    "        wsort[i] = w[k][ir1]\n",
    "        i += 1\n",
    "wsort.sort()"
   ]
  },
  {
   "cell_type": "markdown",
   "id": "918b54ca-1bbb-4f8c-8104-2ea9f10b157d",
   "metadata": {
    "colab": {
     "base_uri": "https://localhost:8080/"
    },
    "id": "71999471-dbb7-4be6-bf54-fed714e96612",
    "outputId": "d39c9354-5023-4514-eec3-a8d43bfa1a54"
   },
   "source": [
    "Next, we extract the eigenvalues (i.e. resonant frequencies) in the array wsort. Note that we skip the first 6 eigenvalues, which are zero. These are three translations and three rotations of the sample."
   ]
  },
  {
   "cell_type": "code",
   "execution_count": null,
   "id": "2197ccfc-2637-45ba-8adf-5914e961727e",
   "metadata": {
    "colab": {
     "base_uri": "https://localhost:8080/"
    },
    "id": "71999471-dbb7-4be6-bf54-fed714e96612",
    "outputId": "d39c9354-5023-4514-eec3-a8d43bfa1a54"
   },
   "outputs": [],
   "source": [
    "eigenfreqs = numpy.round(1e5*numpy.sqrt(wsort[6:])/(2.0*numpy.pi), decimals=4)\n",
    "i = 0\n",
    "ir1 = 0\n",
    "while ir1 < args['nfreq']:\n",
    "    ir1 += 1\n",
    "    print(\" f%d = %.4f\" % (ir1, eigenfreqs[i]))\n",
    "    i += 1"
   ]
  },
  {
   "attachments": {},
   "cell_type": "markdown",
   "id": "12aadbde-778f-4181-a9ac-1cd46355f946",
   "metadata": {
    "id": "xtgEBAyvqAQz"
   },
   "source": [
    "Several frequencies are listed more than once. This means the sample has so-called degenerate modes, where different styles of oscillations occur at the same frequency."
   ]
  },
  {
   "cell_type": "markdown",
   "id": "44193936-8883-4281-bce7-7319723f3447",
   "metadata": {},
   "source": [
    "## Free oscillations at a particular resonant frequency\n",
    "Let's calculate and visualize the movement of the sample at a particular resonant frequency. For that, we need to first setup the basis functions we'll use, and the components of movement at each location on the sample: "
   ]
  },
  {
   "cell_type": "code",
   "execution_count": null,
   "id": "450099ee-f857-4cdc-b63f-559da22753af",
   "metadata": {
    "id": "450099ee-f857-4cdc-b63f-559da22753af"
   },
   "outputs": [],
   "source": [
    "def Phi(dimensions, tabs):\n",
    "    '''## Free oscillations at a particular resonant frequency\n",
    "Let us look at the movement of the sample for a particular resonant frequency. For that, we need to first setup the basis functions, and then the components of movement at each location on the sample: \n",
    "    Calculate the basis function \\Phi_{\\lambda}, where \\lambda contains the indices l, m, n\n",
    "    '''\n",
    "    PHI = []\n",
    "    #for vals in tabs:\n",
    "    i, l, m, n = tabs\n",
    "    PHI = dimensions[0]**l * dimensions[1]**m * dimensions[2]**n\n",
    "    return PHI"
   ]
  },
  {
   "cell_type": "code",
   "execution_count": null,
   "id": "e0a6360d-5b10-4e2e-b45f-ce1ef57e4b5c",
   "metadata": {
    "id": "e0a6360d-5b10-4e2e-b45f-ce1ef57e4b5c"
   },
   "outputs": [],
   "source": [
    "def u_i(z, location, pos):\n",
    "    '''\n",
    "    Calculates the displacement components for a location on or within the sample material.\n",
    "    The function calls the subroutine Phi(dimensions, tabs) to calculate the basis functions.\n",
    "    z = matrix of eigenvectors.\n",
    "    pos = index vector of positions where a desired eigenvalue (frequency) is stored\n",
    "    Attention: if pos is a single value, put it in brackets within the function [pos]\n",
    "    that way it makes it iterable in python.\n",
    "    location = [X, Y, Z] position\n",
    "    '''\n",
    "    dx = 0\n",
    "    dy = 0\n",
    "    dz = 0\n",
    "    for p in pos:\n",
    "        j = 0\n",
    "        for tab in tabs:\n",
    "            i, l, m, n = tab\n",
    "            if i == 0:\n",
    "                dx = dx + z[p,j]*Phi(location, tab)\n",
    "            elif i == 1:\n",
    "                dy = dy + z[p,j]*Phi(location, tab)\n",
    "            elif i == 2:\n",
    "                dz = dz + z[p,j]*Phi(location, tab)\n",
    "            # print(j, i, l, m, n)\n",
    "            j+=1\n",
    "    return numpy.array([dx, dy, dz])"
   ]
  },
  {
   "cell_type": "markdown",
   "id": "7e7ef3d1-09c4-4d6b-8f37-cb14153ef21c",
   "metadata": {
    "id": "7e7ef3d1-09c4-4d6b-8f37-cb14153ef21c"
   },
   "source": [
    "# Create many locations on the surface of the cylinder"
   ]
  },
  {
   "cell_type": "code",
   "execution_count": null,
   "id": "fdaccbef-8b7d-42c0-bae3-02070d069692",
   "metadata": {
    "id": "fdaccbef-8b7d-42c0-bae3-02070d069692"
   },
   "outputs": [],
   "source": [
    "Radius = dimension1\n",
    "z_locations = numpy.linspace(-dimension3, dimension3, 25)\n",
    "theta = numpy.linspace(0, 2*numpy.pi, 100)\n",
    "xy_locations = numpy.c_[Radius*numpy.cos(theta), Radius*numpy.sin(theta)]"
   ]
  },
  {
   "cell_type": "code",
   "execution_count": null,
   "id": "122abb4d-b610-498c-807f-122032f9a227",
   "metadata": {
    "id": "122abb4d-b610-498c-807f-122032f9a227"
   },
   "outputs": [],
   "source": [
    "locations = []\n",
    "for i in range(0, len(xy_locations)):\n",
    "    for j in range(0, len(z_locations)):\n",
    "        locations.append([xy_locations[i][0], xy_locations[i][1], z_locations[j]])\n",
    "\n",
    "# Top and bottom sample locations\n",
    "radii = numpy.linspace(-dimension1, dimension1, 20)\n",
    "for radius in radii:\n",
    "    for angle in numpy.linspace(0, numpy.pi, 20):\n",
    "        cexp = numpy.exp(1j*angle)\n",
    "        x = radius*cexp\n",
    "        y = radius*1j*cexp\n",
    "        locations.append([numpy.real(x), numpy.real(y), dimension3])\n",
    "        locations.append([numpy.real(x), numpy.real(y), -dimension3])\n",
    "\n",
    "locations = numpy.array(locations)"
   ]
  },
  {
   "cell_type": "code",
   "execution_count": null,
   "id": "a2e85fca-1e5b-4b03-bbda-33441db969e1",
   "metadata": {
    "id": "a2e85fca-1e5b-4b03-bbda-33441db969e1"
   },
   "outputs": [],
   "source": [
    "xs = locations[:,0]\n",
    "ys = locations[:,1]\n",
    "zs = locations[:,2]"
   ]
  },
  {
   "cell_type": "code",
   "execution_count": null,
   "id": "e2c41ccb-020e-4db1-aa00-59c8cc037dac",
   "metadata": {
    "colab": {
     "base_uri": "https://localhost:8080/",
     "height": 412
    },
    "id": "e2c41ccb-020e-4db1-aa00-59c8cc037dac",
    "outputId": "21f0157c-3aea-4005-860c-5f98919ac891"
   },
   "outputs": [],
   "source": [
    "# Check the points are part of a cylinder\n",
    "fig = plt.figure()\n",
    "ax = fig.add_subplot(projection='3d')\n",
    "\n",
    "m = 'o'\n",
    "ax.scatter(xs, ys, zs, marker=m, s = 1)\n",
    "\n",
    "ax.set_xlabel('X Label')\n",
    "ax.set_ylabel('Y Label')\n",
    "ax.set_zlabel('Z Label')\n",
    "\n",
    "plt.show()"
   ]
  },
  {
   "cell_type": "markdown",
   "id": "55b9ffd4-c4c7-4bb6-85b3-f9254fa93979",
   "metadata": {
    "id": "55b9ffd4-c4c7-4bb6-85b3-f9254fa93979"
   },
   "source": [
    "## Choose a resonant frequency and calculate the displacements"
   ]
  },
  {
   "cell_type": "code",
   "execution_count": null,
   "id": "aa29a103-6178-41e2-95d0-3c37295f111c",
   "metadata": {
    "colab": {
     "base_uri": "https://localhost:8080/"
    },
    "id": "aa29a103-6178-41e2-95d0-3c37295f111c",
    "outputId": "376ad47b-5204-4784-ac80-65126d149b1b"
   },
   "outputs": [],
   "source": [
    "index_of_frequency = 30 # Choose an index value from the list above.\n",
    "pos = numpy.where(EIGVALS == wsort[index_of_frequency])[0] # Choose a frequency to plot and find its indices!!!\n",
    "print('Indices where wsort equals the frequency: ', pos)\n",
    "frequencies = 1e5*numpy.sqrt(EIGVALS[pos])/(2*numpy.pi)\n",
    "print('Frequencies: ', frequencies)\n",
    "resonant_frequency = frequencies[0]\n",
    "\n",
    "DU = numpy.zeros((len(locations),3))\n",
    "i = 0\n",
    "for loc in locations:\n",
    "    dx, dy, dz = u_i(z, [loc[0], loc[1], loc[2]], [pos[0]]) # pos: use all positions, otherwise choose a particular one (e.g. [pos[3]])\n",
    "    du=numpy.array([dx,dy,dz])\n",
    "    #du_n = du/numpy.linalg.norm(du)\n",
    "    DU[i,0] = du[0]\n",
    "    DU[i,1] = du[1]\n",
    "    DU[i,2] = du[2]\n",
    "    i+=1\n",
    "\n",
    "DU = numpy.array(DU)"
   ]
  },
  {
   "cell_type": "markdown",
   "id": "9eff9d66-440a-4679-9eff-28248787ac97",
   "metadata": {
    "id": "9eff9d66-440a-4679-9eff-28248787ac97"
   },
   "source": [
    "## Calculate the magnitude of displacements on the surface of the cylinder"
   ]
  },
  {
   "cell_type": "code",
   "execution_count": null,
   "id": "7sJRQu3hlpxm",
   "metadata": {
    "id": "7sJRQu3hlpxm"
   },
   "outputs": [],
   "source": [
    "displacements = locations + 3*DU\n",
    "xs = displacements[:,0]\n",
    "ys = displacements[:,1]\n",
    "zs = displacements[:,2]\n",
    "\n",
    "abs_displacement = numpy.sqrt(DU[:, 0]**2 + DU[:, 1]**2 + DU[:, 2]**2)"
   ]
  },
  {
   "cell_type": "markdown",
   "id": "c107a632-f9fb-4ffb-8c09-aca9b5692001",
   "metadata": {
    "colab": {
     "base_uri": "https://localhost:8080/",
     "height": 431
    },
    "id": "790f9ce0-06e4-41eb-acc9-89714071d91d",
    "outputId": "e3e04c69-8a55-4a61-d773-713fd729b340"
   },
   "source": [
    "## A snapshot of this mode\n",
    "The locations on the sample are coloured using the absolute value of the amplitude of the displacement vector."
   ]
  },
  {
   "cell_type": "code",
   "execution_count": null,
   "id": "440ffa40-0ecf-49b1-9d0d-ba33c7dc2d37",
   "metadata": {
    "colab": {
     "base_uri": "https://localhost:8080/",
     "height": 542
    },
    "id": "440ffa40-0ecf-49b1-9d0d-ba33c7dc2d37",
    "outputId": "f97fe8d4-8e06-493a-f834-e160a5109580"
   },
   "outputs": [],
   "source": [
    "import plotly.graph_objects as go\n",
    "\n",
    "fig = go.Figure(data=[go.Scatter3d(\n",
    "    x=xs,\n",
    "    y=ys,\n",
    "    z=zs,\n",
    "    mode='markers',\n",
    "    marker=dict(\n",
    "        size=12,\n",
    "        color=numpy.sqrt(DU[:,0]**2 + DU[:,1]**2 + DU[:,2]**2),                # set color to an array/list of desired values\n",
    "        colorscale='Viridis',   # choose a colorscale\n",
    "        opacity=1.0,\n",
    "        colorbar=dict(thickness=20)\n",
    "    )\n",
    ")])\n",
    "\n",
    "# tight layout\n",
    "fig.update_layout(margin=dict(l=0, r=0, b=0, t=0),\n",
    "                  # Remove axes from scene (comment this scene property if you want to see the axes)\n",
    "                  scene = dict(\n",
    "                      xaxis = dict(visible=False),\n",
    "                      yaxis = dict(visible=False),\n",
    "                      zaxis =dict(visible=False)\n",
    "                      )\n",
    "                  )\n",
    "fig.show()"
   ]
  },
  {
   "cell_type": "markdown",
   "id": "B5vtBkpM8orJ",
   "metadata": {
    "id": "B5vtBkpM8orJ"
   },
   "source": [
    "## Animate the movement\n",
    "\n",
    "The displacement snapshot of a mode can be animated by multiplying the displacement at each position by a complex exponential at the resonant frequency. The cell below shows five cycles of oscillation of the resonant mode.  "
   ]
  },
  {
   "cell_type": "code",
   "execution_count": null,
   "id": "7577d71a-e000-47cf-bc38-c8a0741d2b94",
   "metadata": {
    "colab": {
     "base_uri": "https://localhost:8080/",
     "height": 542
    },
    "id": "7577d71a-e000-47cf-bc38-c8a0741d2b94",
    "outputId": "afb4e365-2c51-4560-fc7e-1904e5d80c40"
   },
   "outputs": [],
   "source": [
    "import plotly.graph_objects as go\n",
    "\n",
    "# Assuming xs, ys, zs, resonant_frequency, and DU are defined from the previous code\n",
    "\n",
    "T_r = 1/resonant_frequency # Period of the resonant frequency\n",
    "time = numpy.linspace(0, 5*T_r, 100)  # Time from 0 to 5*T_r\n",
    "\n",
    "frames = []\n",
    "for t in time:\n",
    "    complex_exp = numpy.exp(1j * resonant_frequency * 2 * numpy.pi * t)\n",
    "    new_xs = locations[:,0] + 3*DU[:,0] * complex_exp.real\n",
    "    new_ys = locations[:,1] + 3*DU[:,1] * complex_exp.real\n",
    "    new_zs = locations[:,2] + 3*DU[:,2] * complex_exp.real\n",
    "\n",
    "    frame = go.Frame(data=[go.Scatter3d(x=new_xs, y=new_ys, z=new_zs,\n",
    "                                        mode='markers',\n",
    "                                        marker=dict(\n",
    "                                            size=8,\n",
    "                                            color=abs_displacement,\n",
    "                                            colorscale='Viridis',\n",
    "                                            opacity=1.0\n",
    "                                        ))],\n",
    "                     name=str(t))\n",
    "    frames.append(frame)\n",
    "\n",
    "fig = go.Figure(\n",
    "    data=[go.Scatter3d(x=locations[:,0], y=locations[:,1], z=locations[:,2], mode='markers',\n",
    "                       marker=dict(size=8, color=abs_displacement,\n",
    "                                   colorscale='Viridis', opacity=1.0))],\n",
    "    frames=frames\n",
    ")\n",
    "\n",
    "fig.update_layout(\n",
    "    title=f'{resonant_frequency:8.2f} Hz',\n",
    "    updatemenus=[dict(\n",
    "        type=\"buttons\",\n",
    "        buttons=[dict(label=\"Play\",\n",
    "                      method=\"animate\",\n",
    "                      args=[None, {\"frame\": {\"duration\": 5, \"redraw\": True},\n",
    "                                   \"transition\": {\"duration\": 0},\n",
    "                                   \"fromcurrent\": True,\n",
    "                                   \"mode\": \"immediate\"\n",
    "                                   }]),\n",
    "                 dict(label=\"Pause\",\n",
    "                      method=\"animate\",\n",
    "                      args=[[None], {\"frame\": {\"duration\": 0, \"redraw\": False},\n",
    "                                     \"mode\": \"immediate\",\n",
    "                                     \"transition\": {\"duration\": 0}}])\n",
    "                 ])],\n",
    "    # Remove axes from scene\n",
    "    scene = dict(\n",
    "        xaxis = dict(visible=False),\n",
    "        yaxis = dict(visible=False),\n",
    "        zaxis =dict(visible=False)\n",
    "        )\n",
    "    )\n",
    "\n",
    "scene = {\n",
    "    # ...\n",
    "    'aspectmode': 'cube',\n",
    "}\n",
    "\n",
    "fig.show()"
   ]
  },
  {
   "cell_type": "markdown",
   "id": "818d6efb-4f31-4999-89de-5e12e22ae538",
   "metadata": {
    "id": "818d6efb-4f31-4999-89de-5e12e22ae538"
   },
   "source": [
    "## References\n",
    "\n",
    "We used the following publications in this notebook:\n",
    "\n",
    "- Visscher, W. M., Migliori, A., Bell, T. M., & Reinert, R. A. (1991). On the normal modes of free vibration of inhomogeneous and anisotropic elastic objects. The Journal of the Acoustical Society of America, 90(4), 2154-2162.\n",
    "- Migliori, A., Sarrao, J. L., Visscher, W. M., Bell, T. M., Lei, M., Fisk, Z., & Leisure, R. G. (1993). Resonant ultrasound spectroscopic techniques for measurement of the elastic moduli of solids. Physica B: Condensed Matter, 183(1-2), 1-24.\n",
    "- de Rue, J. (1996). On the normal modes of freely vibrating elastic objects of various shapes (MSc thesis, University of Amsterdam).\n",
    "- Zadler, B. J., Le Rousseau, J. H., Scales, J. A., & Smith, M. L. (2004). Resonant ultrasound spectroscopy: theory and application. Geophysical Journal International, 156(1), 154-169."
   ]
  },
  {
   "cell_type": "code",
   "execution_count": null,
   "id": "e8ab30ef-ed4d-42d2-bc6a-7411887d1266",
   "metadata": {},
   "outputs": [],
   "source": []
  }
 ],
 "metadata": {
  "colab": {
   "provenance": []
  },
  "kernelspec": {
   "display_name": "Python 3 (ipykernel)",
   "language": "python",
   "name": "python3"
  },
  "language_info": {
   "codemirror_mode": {
    "name": "ipython",
    "version": 3
   },
   "file_extension": ".py",
   "mimetype": "text/x-python",
   "name": "python",
   "nbconvert_exporter": "python",
   "pygments_lexer": "ipython3",
   "version": "3.10.2"
  }
 },
 "nbformat": 4,
 "nbformat_minor": 5
}
